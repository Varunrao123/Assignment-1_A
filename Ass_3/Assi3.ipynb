{
  "nbformat": 4,
  "nbformat_minor": 0,
  "metadata": {
    "colab": {
      "name": "Assi3.ipynb",
      "version": "0.3.2",
      "provenance": [],
      "include_colab_link": true
    },
    "kernelspec": {
      "name": "python3",
      "display_name": "Python 3"
    },
    "accelerator": "GPU"
  },
  "cells": [
    {
      "cell_type": "markdown",
      "metadata": {
        "id": "view-in-github",
        "colab_type": "text"
      },
      "source": [
        "<a href=\"https://colab.research.google.com/github/Varunrao123/Assignment-1_A/blob/master/Ass_3/Assi3.ipynb\" target=\"_parent\"><img src=\"https://colab.research.google.com/assets/colab-badge.svg\" alt=\"Open In Colab\"/></a>"
      ]
    },
    {
      "cell_type": "code",
      "metadata": {
        "id": "fBkfNBCoHGK1",
        "colab_type": "code",
        "colab": {}
      },
      "source": [
        "# https://keras.io/\n",
        "!pip install -q keras\n",
        "import keras"
      ],
      "execution_count": 0,
      "outputs": []
    },
    {
      "cell_type": "code",
      "metadata": {
        "id": "EUPvs7nLHOHE",
        "colab_type": "code",
        "colab": {}
      },
      "source": [
        "import numpy as np\n",
        "\n",
        "from keras.models import Sequential\n",
        "from keras.layers import Dense, Dropout, Activation, Flatten, Add\n",
        "from keras.layers import Convolution2D, MaxPooling2D\n",
        "from keras.utils import np_utils\n",
        "from keras.models import Model, Sequential\n",
        "from keras.layers import Dense, Dropout, Flatten, Input, AveragePooling2D, merge, Activation\n",
        "from keras.layers import Conv2D, MaxPooling2D, BatchNormalization\n",
        "from keras.layers import Concatenate\n",
        "from keras.optimizers import Adam\n",
        "from keras.layers.advanced_activations import LeakyReLU\n",
        "from keras.layers import Reshape, Activation, Conv2D, Input, MaxPooling2D, BatchNormalization, Flatten, Dense, Lambda\n",
        "from keras.layers.merge import concatenate\n",
        "from keras.preprocessing.image import ImageDataGenerator\n",
        "\n",
        "from keras.datasets import mnist"
      ],
      "execution_count": 0,
      "outputs": []
    },
    {
      "cell_type": "code",
      "metadata": {
        "id": "WAQtcqQBHUkq",
        "colab_type": "code",
        "colab": {}
      },
      "source": [
        "(X_train, y_train), (X_test, y_test) = mnist.load_data()"
      ],
      "execution_count": 0,
      "outputs": []
    },
    {
      "cell_type": "code",
      "metadata": {
        "id": "cRz26mddHXpy",
        "colab_type": "code",
        "colab": {
          "base_uri": "https://localhost:8080/",
          "height": 303
        },
        "outputId": "7db20e73-c34d-4e54-8350-16c94d98530a"
      },
      "source": [
        "print (X_train.shape)\n",
        "from matplotlib import pyplot as plt\n",
        "%matplotlib inline\n",
        "plt.imshow(X_train[0])"
      ],
      "execution_count": 14,
      "outputs": [
        {
          "output_type": "stream",
          "text": [
            "(60000, 28, 28)\n"
          ],
          "name": "stdout"
        },
        {
          "output_type": "execute_result",
          "data": {
            "text/plain": [
              "<matplotlib.image.AxesImage at 0x7f4e939d2668>"
            ]
          },
          "metadata": {
            "tags": []
          },
          "execution_count": 14
        },
        {
          "output_type": "display_data",
          "data": {
            "image/png": "[encoded data removed]",
            "text/plain": [
              "<Figure size 432x288 with 1 Axes>"
            ]
          },
          "metadata": {
            "tags": []
          }
        }
      ]
    },
    {
      "cell_type": "code",
      "metadata": {
        "id": "wsYaOqctHaz3",
        "colab_type": "code",
        "colab": {}
      },
      "source": [
        "X_train = X_train.reshape(X_train.shape[0], 28, 28,1)\n",
        "X_test = X_test.reshape(X_test.shape[0], 28, 28,1)"
      ],
      "execution_count": 0,
      "outputs": []
    },
    {
      "cell_type": "code",
      "metadata": {
        "id": "vBCb7TirHc7C",
        "colab_type": "code",
        "colab": {}
      },
      "source": [
        "X_train = X_train.astype('float32')\n",
        "X_test = X_test.astype('float32')\n",
        "X_train /= 255\n",
        "X_test /= 255"
      ],
      "execution_count": 0,
      "outputs": []
    },
    {
      "cell_type": "code",
      "metadata": {
        "id": "pOhQLgGIHexZ",
        "colab_type": "code",
        "colab": {
          "base_uri": "https://localhost:8080/",
          "height": 34
        },
        "outputId": "38086dfc-0345-4703-c6c7-49a0950ad2d2"
      },
      "source": [
        "y_train[:10]"
      ],
      "execution_count": 17,
      "outputs": [
        {
          "output_type": "execute_result",
          "data": {
            "text/plain": [
              "array([5, 0, 4, 1, 9, 2, 1, 3, 1, 4], dtype=uint8)"
            ]
          },
          "metadata": {
            "tags": []
          },
          "execution_count": 17
        }
      ]
    },
    {
      "cell_type": "code",
      "metadata": {
        "id": "zrnOmfHlHgk9",
        "colab_type": "code",
        "colab": {}
      },
      "source": [
        "# Convert 1-dimensional class arrays to 10-dimensional class matrices\n",
        "Y_train = np_utils.to_categorical(y_train, 10)\n",
        "Y_test = np_utils.to_categorical(y_test, 10)"
      ],
      "execution_count": 0,
      "outputs": []
    },
    {
      "cell_type": "code",
      "metadata": {
        "id": "d4NltMHEHiuw",
        "colab_type": "code",
        "colab": {
          "base_uri": "https://localhost:8080/",
          "height": 187
        },
        "outputId": "e7e40ab3-5810-4323-f313-b7bcd8641a32"
      },
      "source": [
        "Y_train[:10]"
      ],
      "execution_count": 19,
      "outputs": [
        {
          "output_type": "execute_result",
          "data": {
            "text/plain": [
              "array([[0., 0., 0., 0., 0., 1., 0., 0., 0., 0.],\n",
              "       [1., 0., 0., 0., 0., 0., 0., 0., 0., 0.],\n",
              "       [0., 0., 0., 0., 1., 0., 0., 0., 0., 0.],\n",
              "       [0., 1., 0., 0., 0., 0., 0., 0., 0., 0.],\n",
              "       [0., 0., 0., 0., 0., 0., 0., 0., 0., 1.],\n",
              "       [0., 0., 1., 0., 0., 0., 0., 0., 0., 0.],\n",
              "       [0., 1., 0., 0., 0., 0., 0., 0., 0., 0.],\n",
              "       [0., 0., 0., 1., 0., 0., 0., 0., 0., 0.],\n",
              "       [0., 1., 0., 0., 0., 0., 0., 0., 0., 0.],\n",
              "       [0., 0., 0., 0., 1., 0., 0., 0., 0., 0.]], dtype=float32)"
            ]
          },
          "metadata": {
            "tags": []
          },
          "execution_count": 19
        }
      ]
    },
    {
      "cell_type": "code",
      "metadata": {
        "id": "BV9JLyiqHl6R",
        "colab_type": "code",
        "colab": {}
      },
      "source": [
        "from keras.layers import Activation\n",
        "from keras.preprocessing.image import ImageDataGenerator\n",
        "model = Sequential()\n",
        "\n",
        " \n",
        "model.add(Conv2D(8, kernel_size=(3, 3),strides=(1,1), activation='relu',padding='valid',input_shape=(28,28,1)))\n",
        "model.add(Dropout(0.25))\n",
        "model.add(Conv2D(32, (3,3), activation='relu'))\n",
        "model.add(Dropout(0.25))\n",
        "model.add(MaxPooling2D(pool_size=(2, 2),strides=2))\n",
        "model.add(Conv2D(16, (3,3), strides =(1,1),padding='valid'))\n",
        "model.add(Dropout(0.5))\n",
        "model.add(Conv2D(32,(3, 3),strides=(1,1) ,activation='relu',padding='valid'))\n",
        "model.add(MaxPooling2D(pool_size=(2, 2),strides=2))\n",
        "\n",
        "model.add(Conv2D(16, (3, 3), activation='relu',padding='same'))\n",
        "\n",
        "model.add(Conv2D(16, (3, 3), activation='relu',padding='valid'))\n",
        "\n",
        "model.add(BatchNormalization())\n",
        "model.add(Activation('relu'))\n",
        "model.add(MaxPooling2D(pool_size=(2,2),strides=1))          \n",
        "\n",
        "model.add(Conv2D(10,1,activation='relu'))\n",
        "model.add(Conv2D(10,1))\n",
        "model.add(Flatten())\n",
        "model.add(Activation('softmax'))\n",
        "opt = Adam(lr=0.001, epsilon=1e-08, decay=0.0)\n",
        "\n",
        "\n"
      ],
      "execution_count": 0,
      "outputs": []
    },
    {
      "cell_type": "code",
      "metadata": {
        "id": "Elig64rPHqx_",
        "colab_type": "code",
        "colab": {
          "base_uri": "https://localhost:8080/",
          "height": 748
        },
        "outputId": "5d21316d-c50d-42a3-bc2d-f1465abf9657"
      },
      "source": [
        "model.summary()"
      ],
      "execution_count": 140,
      "outputs": [
        {
          "output_type": "stream",
          "text": [
            "_________________________________________________________________\n",
            "Layer (type)                 Output Shape              Param #   \n",
            "=================================================================\n",
            "conv2d_244 (Conv2D)          (None, 26, 26, 8)         80        \n",
            "_________________________________________________________________\n",
            "dropout_42 (Dropout)         (None, 26, 26, 8)         0         \n",
            "_________________________________________________________________\n",
            "conv2d_245 (Conv2D)          (None, 24, 24, 32)        2336      \n",
            "_________________________________________________________________\n",
            "dropout_43 (Dropout)         (None, 24, 24, 32)        0         \n",
            "_________________________________________________________________\n",
            "max_pooling2d_92 (MaxPooling (None, 12, 12, 32)        0         \n",
            "_________________________________________________________________\n",
            "conv2d_246 (Conv2D)          (None, 10, 10, 16)        4624      \n",
            "_________________________________________________________________\n",
            "dropout_44 (Dropout)         (None, 10, 10, 16)        0         \n",
            "_________________________________________________________________\n",
            "conv2d_247 (Conv2D)          (None, 8, 8, 32)          4640      \n",
            "_________________________________________________________________\n",
            "max_pooling2d_93 (MaxPooling (None, 4, 4, 32)          0         \n",
            "_________________________________________________________________\n",
            "conv2d_248 (Conv2D)          (None, 4, 4, 16)          4624      \n",
            "_________________________________________________________________\n",
            "conv2d_249 (Conv2D)          (None, 2, 2, 16)          2320      \n",
            "_________________________________________________________________\n",
            "batch_normalization_31 (Batc (None, 2, 2, 16)          64        \n",
            "_________________________________________________________________\n",
            "activation_61 (Activation)   (None, 2, 2, 16)          0         \n",
            "_________________________________________________________________\n",
            "max_pooling2d_94 (MaxPooling (None, 1, 1, 16)          0         \n",
            "_________________________________________________________________\n",
            "conv2d_250 (Conv2D)          (None, 1, 1, 10)          170       \n",
            "_________________________________________________________________\n",
            "conv2d_251 (Conv2D)          (None, 1, 1, 10)          110       \n",
            "_________________________________________________________________\n",
            "flatten_31 (Flatten)         (None, 10)                0         \n",
            "_________________________________________________________________\n",
            "activation_62 (Activation)   (None, 10)                0         \n",
            "=================================================================\n",
            "Total params: 18,968\n",
            "Trainable params: 18,936\n",
            "Non-trainable params: 32\n",
            "_________________________________________________________________\n"
          ],
          "name": "stdout"
        }
      ]
    },
    {
      "cell_type": "code",
      "metadata": {
        "id": "LOsQhdzDHwYq",
        "colab_type": "code",
        "colab": {}
      },
      "source": [
        "model.compile(loss='categorical_crossentropy',\n",
        "             optimizer=opt,\n",
        "             metrics=['accuracy'])"
      ],
      "execution_count": 0,
      "outputs": []
    },
    {
      "cell_type": "code",
      "metadata": {
        "id": "9RUiYMG7HyTC",
        "colab_type": "code",
        "colab": {
          "base_uri": "https://localhost:8080/",
          "height": 408
        },
        "outputId": "46a4dd94-7fbb-44d1-9f98-45afaa70b9a8"
      },
      "source": [
        "model.fit(X_train, Y_train, batch_size=32, nb_epoch=10, verbose=1)"
      ],
      "execution_count": 142,
      "outputs": [
        {
          "output_type": "stream",
          "text": [
            "/usr/local/lib/python3.6/dist-packages/ipykernel_launcher.py:1: UserWarning: The `nb_epoch` argument in `fit` has been renamed `epochs`.\n",
            "  \"\"\"Entry point for launching an IPython kernel.\n"
          ],
          "name": "stderr"
        },
        {
          "output_type": "stream",
          "text": [
            "Epoch 1/10\n",
            "60000/60000 [==============================] - 19s 319us/step - loss: 0.5209 - acc: 0.8373\n",
            "Epoch 2/10\n",
            "60000/60000 [==============================] - 17s 281us/step - loss: 0.1201 - acc: 0.9645\n",
            "Epoch 3/10\n",
            "60000/60000 [==============================] - 18s 292us/step - loss: 0.0898 - acc: 0.9727\n",
            "Epoch 4/10\n",
            "60000/60000 [==============================] - 16s 266us/step - loss: 0.0750 - acc: 0.9775\n",
            "Epoch 5/10\n",
            "60000/60000 [==============================] - 16s 259us/step - loss: 0.0657 - acc: 0.9807\n",
            "Epoch 6/10\n",
            "60000/60000 [==============================] - 16s 260us/step - loss: 0.0592 - acc: 0.9821\n",
            "Epoch 7/10\n",
            "60000/60000 [==============================] - 16s 259us/step - loss: 0.0557 - acc: 0.9829\n",
            "Epoch 8/10\n",
            "60000/60000 [==============================] - 16s 272us/step - loss: 0.0513 - acc: 0.9846\n",
            "Epoch 9/10\n",
            "60000/60000 [==============================] - 16s 268us/step - loss: 0.0485 - acc: 0.9848\n",
            "Epoch 10/10\n",
            "60000/60000 [==============================] - 16s 260us/step - loss: 0.0443 - acc: 0.9863\n"
          ],
          "name": "stdout"
        },
        {
          "output_type": "execute_result",
          "data": {
            "text/plain": [
              "<keras.callbacks.History at 0x7f4e47771cf8>"
            ]
          },
          "metadata": {
            "tags": []
          },
          "execution_count": 142
        }
      ]
    },
    {
      "cell_type": "code",
      "metadata": {
        "id": "Za1dpn82H0Wm",
        "colab_type": "code",
        "colab": {
          "base_uri": "https://localhost:8080/",
          "height": 51
        },
        "outputId": "3c64b0c3-ddb2-4f4c-8828-be469eced8c8"
      },
      "source": [
        "score = model.evaluate(X_test, Y_test, verbose=0)\n",
        "print('Test loss:', score[0])\n",
        "print('Test accuracy:', score[1])"
      ],
      "execution_count": 143,
      "outputs": [
        {
          "output_type": "stream",
          "text": [
            "Test loss: 0.034824933895654976\n",
            "Test accuracy: 0.9914\n"
          ],
          "name": "stdout"
        }
      ]
    },
    {
      "cell_type": "code",
      "metadata": {
        "id": "x2h2XMtYH3ry",
        "colab_type": "code",
        "colab": {}
      },
      "source": [
        "y_pred = model.predict(X_test)\n"
      ],
      "execution_count": 0,
      "outputs": []
    },
    {
      "cell_type": "code",
      "metadata": {
        "id": "-0C4lEm2H63x",
        "colab_type": "code",
        "colab": {
          "base_uri": "https://localhost:8080/",
          "height": 340
        },
        "outputId": "d1ccdd77-c117-448f-d057-0c2cc44ae951"
      },
      "source": [
        "print(y_pred[:9])\n",
        "print(y_test[:9])"
      ],
      "execution_count": 73,
      "outputs": [
        {
          "output_type": "stream",
          "text": [
            "[[4.4759534e-19 1.6318692e-08 4.7861066e-11 6.3072425e-12 3.6905666e-07\n",
            "  2.3773979e-18 3.4025030e-19 9.9999940e-01 1.2560256e-11 2.7041915e-07]\n",
            " [1.7030674e-05 2.8142868e-08 9.9994195e-01 2.4885007e-09 4.4050985e-11\n",
            "  1.0662858e-15 1.0292186e-08 4.0464420e-05 3.3132724e-07 1.2530727e-07]\n",
            " [5.0961834e-08 9.9978048e-01 3.5876378e-06 9.7017607e-07 4.3563700e-06\n",
            "  2.9940311e-05 3.4044177e-05 8.5910142e-05 5.4874738e-05 5.8764267e-06]\n",
            " [9.9990511e-01 1.0575148e-12 4.6912507e-10 5.0541654e-08 4.5023318e-11\n",
            "  6.9776524e-07 9.1342510e-05 1.9271087e-09 2.8068901e-06 6.7727996e-08]\n",
            " [7.7157559e-14 1.3722064e-10 2.4061220e-09 1.7382459e-16 9.9999392e-01\n",
            "  3.7792411e-14 1.3850211e-08 4.1339111e-14 1.0336882e-09 6.1116880e-06]\n",
            " [5.0887490e-08 9.9978167e-01 3.5981063e-06 9.3890236e-07 4.4057178e-06\n",
            "  3.0024839e-05 3.5309553e-05 8.3442268e-05 5.4793229e-05 5.8944343e-06]\n",
            " [6.1138507e-17 4.4702003e-13 1.9680920e-11 3.3817076e-20 9.9999952e-01\n",
            "  2.9855807e-17 1.9300156e-10 3.3537194e-17 6.4148825e-12 4.3014359e-07]\n",
            " [6.3369869e-14 2.4886907e-14 6.3956944e-11 4.2033307e-10 1.5148531e-07\n",
            "  2.2673677e-13 1.3716817e-12 8.6070834e-08 1.6189729e-08 9.9999976e-01]\n",
            " [7.6315395e-05 1.2044986e-06 8.9736538e-11 3.5899138e-06 9.0504644e-09\n",
            "  7.3328429e-01 2.6493695e-01 8.3625835e-08 1.6882963e-03 9.3285316e-06]]\n",
            "[7 2 1 0 4 1 4 9 5]\n"
          ],
          "name": "stdout"
        }
      ]
    },
    {
      "cell_type": "code",
      "metadata": {
        "id": "Uf-iXRmfIAGL",
        "colab_type": "code",
        "colab": {}
      },
      "source": [
        "layer_dict = dict([(layer.name, layer) for layer in model.layers])"
      ],
      "execution_count": 0,
      "outputs": []
    },
    {
      "cell_type": "code",
      "metadata": {
        "id": "vvr2bMqsIAoQ",
        "colab_type": "code",
        "colab": {}
      },
      "source": [
        "import numpy as np\n",
        "from matplotlib import pyplot as plt\n",
        "from keras import backend as K\n",
        "%matplotlib inline\n",
        "# util function to convert a tensor into a valid image\n",
        "def deprocess_image(x):\n",
        "    # normalize tensor: center on 0., ensure std is 0.1\n",
        "    x -= x.mean()\n",
        "    x /= (x.std() + 1e-5)\n",
        "    x *= 0.1\n",
        "\n",
        "    # clip to [0, 1]\n",
        "    x += 0.5\n",
        "    x = np.clip(x, 0, 1)\n",
        "\n",
        "    # convert to RGB array\n",
        "    x *= 255\n",
        "    #x = x.transpose((1, 2, 0))\n",
        "    x = np.clip(x, 0, 255).astype('uint8')\n",
        "    return x\n",
        "\n",
        "def vis_img_in_filter(img = np.array(X_train[2]).reshape((1, 28, 28, 1)).astype(np.float64), \n",
        "                      layer_name = 'conv2d_14'):\n",
        "    layer_output = layer_dict[layer_name].output\n",
        "    img_ascs = list()\n",
        "    for filter_index in range(layer_output.shape[3]):\n",
        "        # build a loss function that maximizes the activation\n",
        "        # of the nth filter of the layer considered\n",
        "        loss = K.mean(layer_output[:, :, :, filter_index])\n",
        "\n",
        "        # compute the gradient of the input picture wrt this loss\n",
        "        grads = K.gradients(loss, model.input)[0]\n",
        "\n",
        "        # normalization trick: we normalize the gradient\n",
        "        grads /= (K.sqrt(K.mean(K.square(grads))) + 1e-5)\n",
        "\n",
        "        # this function returns the loss and grads given the input picture\n",
        "        iterate = K.function([model.input], [loss, grads])\n",
        "\n",
        "        # step size for gradient ascent\n",
        "        step = 5.\n",
        "\n",
        "        img_asc = np.array(img)\n",
        "        # run gradient ascent for 20 steps\n",
        "        for i in range(20):\n",
        "            loss_value, grads_value = iterate([img_asc])\n",
        "            img_asc += grads_value * step\n",
        "\n",
        "        img_asc = img_asc[0]\n",
        "        img_ascs.append(deprocess_image(img_asc).reshape((28, 28)))\n",
        "        \n",
        "    if layer_output.shape[3] >= 35:\n",
        "        plot_x, plot_y = 6, 6\n",
        "    elif layer_output.shape[3] >= 23:\n",
        "        plot_x, plot_y = 4, 6\n",
        "    elif layer_output.shape[3] >= 11:\n",
        "        plot_x, plot_y = 2, 6\n",
        "    else:\n",
        "        plot_x, plot_y = 1, 2\n",
        "    fig, ax = plt.subplots(plot_x, plot_y, figsize = (12, 12))\n",
        "    ax[0, 0].imshow(img.reshape((28, 28)), cmap = 'gray')\n",
        "    ax[0, 0].set_title('Input image')\n",
        "    fig.suptitle('Input image and %s filters' % (layer_name,))\n",
        "    fig.tight_layout(pad = 0.3, rect = [0, 0, 0.9, 0.9])\n",
        "    for (x, y) in [(i, j) for i in range(plot_x) for j in range(plot_y)]:\n",
        "        if x == 0 and y == 0:\n",
        "            continue\n",
        "        ax[x, y].imshow(img_ascs[x * plot_y + y - 1], cmap = 'gray')\n",
        "        ax[x, y].set_title('filter %d' % (x * plot_y + y - 1))\n",
        "\n",
        "vis_img_in_filter()"
      ],
      "execution_count": 0,
      "outputs": []
    }
  ]
}